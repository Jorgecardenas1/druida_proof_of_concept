{
 "cells": [
  {
   "cell_type": "code",
   "execution_count": null,
   "id": "8fd549d6-cbc5-4ff6-bcb7-ef9197dc463d",
   "metadata": {},
   "outputs": [],
   "source": []
  },
  {
   "cell_type": "markdown",
   "id": "8ab838dc-7340-4251-ab93-f921acaa341e",
   "metadata": {},
   "source": [
    "**Preprocessing**"
   ]
  },
  {
   "cell_type": "code",
   "execution_count": null,
   "id": "3ac03886-91cc-4e4e-ae59-3042a225daac",
   "metadata": {},
   "outputs": [],
   "source": []
  },
  {
   "cell_type": "markdown",
   "id": "03f4b00d-106c-4af1-8905-3638e28ae961",
   "metadata": {},
   "source": [
    "**Multilayer NN**"
   ]
  },
  {
   "cell_type": "code",
   "execution_count": null,
   "id": "40a6f8f6-eb36-42d0-8721-3da3f22241fe",
   "metadata": {},
   "outputs": [],
   "source": []
  },
  {
   "cell_type": "markdown",
   "id": "be649bab-4800-4828-a340-56652a41cf0a",
   "metadata": {},
   "source": [
    "**Paralelizing**"
   ]
  },
  {
   "cell_type": "code",
   "execution_count": null,
   "id": "29cd267b-325b-46fb-9af6-02651be8b5b4",
   "metadata": {},
   "outputs": [],
   "source": []
  },
  {
   "cell_type": "code",
   "execution_count": null,
   "id": "adbd5a0b-10dc-4544-8da3-16219237e10a",
   "metadata": {},
   "outputs": [],
   "source": []
  },
  {
   "cell_type": "markdown",
   "id": "c09ad17d-527b-4ad6-a445-53ee6b52d087",
   "metadata": {},
   "source": [
    "**CNN**"
   ]
  },
  {
   "cell_type": "code",
   "execution_count": null,
   "id": "eec0f810-b93b-484a-be91-8d75bb1dfba4",
   "metadata": {},
   "outputs": [],
   "source": []
  }
 ],
 "metadata": {
  "kernelspec": {
   "display_name": "Python 3 (ipykernel)",
   "language": "python",
   "name": "python3"
  },
  "language_info": {
   "codemirror_mode": {
    "name": "ipython",
    "version": 3
   },
   "file_extension": ".py",
   "mimetype": "text/x-python",
   "name": "python",
   "nbconvert_exporter": "python",
   "pygments_lexer": "ipython3",
   "version": "3.10.12"
  }
 },
 "nbformat": 4,
 "nbformat_minor": 5
}
