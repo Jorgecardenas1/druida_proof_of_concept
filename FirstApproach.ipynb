{
 "cells": [
  {
   "cell_type": "code",
   "execution_count": 1,
   "id": "8fd549d6-cbc5-4ff6-bcb7-ef9197dc463d",
   "metadata": {
    "tags": []
   },
   "outputs": [],
   "source": [
    "import sys  \n",
    "sys.path.insert(0, './Druida_POC/src/')\n",
    "\n",
    "from druida import Stack\n",
    "import numpy as np\n",
    "import torch\n",
    "import torch.nn as nn\n",
    "\n",
    "from torchsummary import summary\n"
   ]
  },
  {
   "cell_type": "markdown",
   "id": "5095d2c7-56de-4cd1-be21-a8f82533bbe8",
   "metadata": {},
   "source": [
    "### Architecture"
   ]
  },
  {
   "cell_type": "code",
   "execution_count": 2,
   "id": "d44f7710-dcef-4cca-909e-311012aff9a6",
   "metadata": {
    "tags": []
   },
   "outputs": [
    {
     "data": {
      "text/plain": [
       "DNN(\n",
       "  (architecture): Sequential(\n",
       "    (hidden1): Linear(in_features=12, out_features=8, bias=True)\n",
       "    (activation1): ReLU()\n",
       "    (output): Linear(in_features=8, out_features=1, bias=True)\n",
       "    (activationOut): Sigmoid()\n",
       "  )\n",
       ")"
      ]
     },
     "execution_count": 2,
     "metadata": {},
     "output_type": "execute_result"
    }
   ],
   "source": [
    "\n",
    "#dnn.clear()\n",
    "#dnn.pop()\n",
    "#dnn.forward()\n",
    "#dnn.layers\n",
    "data=np.zeros((100,8))\n",
    "\n",
    "dnn=Stack.DNN([{\"hidden1\":nn.Linear(8,12)},\n",
    "               {\"activation1\":nn.ReLU()},\n",
    "               {\"hidden1\":nn.Linear(12,8)},\n",
    "               {\"activation1\":nn.ReLU()}, \n",
    "               {\"output\":nn.Linear(8,1)},\n",
    "               {\"activationOut\":nn.Sigmoid()}])\n",
    "\n",
    "dnn\n"
   ]
  },
  {
   "cell_type": "code",
   "execution_count": 3,
   "id": "03bc3d8e-8005-4a01-9eb9-1a06640b18ce",
   "metadata": {
    "tags": []
   },
   "outputs": [
    {
     "data": {
      "text/plain": [
       "DNN(\n",
       "  (architecture): Sequential(\n",
       "    (hidden1): Linear(in_features=12, out_features=8, bias=True)\n",
       "    (activation1): ReLU()\n",
       "    (output): Linear(in_features=8, out_features=1, bias=True)\n",
       "    (activationOut): Sigmoid()\n",
       "  )\n",
       ")"
      ]
     },
     "execution_count": 3,
     "metadata": {},
     "output_type": "execute_result"
    }
   ],
   "source": [
    "##checking device \n",
    "dnn.device\n",
    "dnn.to(dnn.device)"
   ]
  },
  {
   "cell_type": "code",
   "execution_count": 4,
   "id": "9336b073-a4a4-4eba-b345-5dcecee544ef",
   "metadata": {
    "tags": []
   },
   "outputs": [
    {
     "name": "stdout",
     "output_type": "stream",
     "text": [
      "Predicted class: tensor([0, 0, 0, 0, 0, 0, 0, 0, 0, 0, 0, 0, 0, 0, 0, 0, 0, 0, 0, 0, 0, 0, 0, 0,\n",
      "        0, 0, 0, 0, 0, 0, 0, 0, 0, 0, 0, 0, 0, 0, 0, 0, 0, 0, 0, 0, 0, 0, 0, 0,\n",
      "        0, 0, 0, 0, 0, 0, 0, 0, 0, 0, 0, 0, 0, 0, 0, 0, 0, 0, 0, 0, 0, 0, 0, 0,\n",
      "        0, 0, 0, 0, 0, 0, 0, 0, 0, 0, 0, 0, 0, 0, 0, 0, 0, 0, 0, 0, 0, 0, 0, 0,\n",
      "        0, 0, 0, 0])\n"
     ]
    }
   ],
   "source": [
    "X=dnn.input_modeling(\n",
    "        {\n",
    "            \"type\":\"vector\",\n",
    "            \"data\":None,\n",
    "            \"size\": (100,8),\n",
    "            \"torchType\": torch.float32,\n",
    "            \"device\":dnn.device\n",
    "        }\n",
    ")      \n",
    "\n",
    "\n",
    "logits = dnn(X)\n",
    "\n",
    "pred_probab = nn.Softmax(dim=1)(logits)\n",
    "y_pred = pred_probab.argmax(1)\n",
    "print(f\"Predicted class: {y_pred}\")"
   ]
  },
  {
   "cell_type": "markdown",
   "id": "8ab838dc-7340-4251-ab93-f921acaa341e",
   "metadata": {},
   "source": [
    "**Preprocessing**"
   ]
  },
  {
   "cell_type": "code",
   "execution_count": null,
   "id": "3ac03886-91cc-4e4e-ae59-3042a225daac",
   "metadata": {},
   "outputs": [],
   "source": []
  },
  {
   "cell_type": "markdown",
   "id": "03f4b00d-106c-4af1-8905-3638e28ae961",
   "metadata": {},
   "source": [
    "**Multilayer NN**"
   ]
  },
  {
   "cell_type": "code",
   "execution_count": null,
   "id": "40a6f8f6-eb36-42d0-8721-3da3f22241fe",
   "metadata": {},
   "outputs": [],
   "source": []
  },
  {
   "cell_type": "markdown",
   "id": "be649bab-4800-4828-a340-56652a41cf0a",
   "metadata": {},
   "source": [
    "**Paralelizing**"
   ]
  },
  {
   "cell_type": "code",
   "execution_count": null,
   "id": "29cd267b-325b-46fb-9af6-02651be8b5b4",
   "metadata": {},
   "outputs": [],
   "source": []
  },
  {
   "cell_type": "code",
   "execution_count": null,
   "id": "adbd5a0b-10dc-4544-8da3-16219237e10a",
   "metadata": {},
   "outputs": [],
   "source": []
  },
  {
   "cell_type": "markdown",
   "id": "c09ad17d-527b-4ad6-a445-53ee6b52d087",
   "metadata": {},
   "source": [
    "**CNN**"
   ]
  },
  {
   "cell_type": "code",
   "execution_count": null,
   "id": "eec0f810-b93b-484a-be91-8d75bb1dfba4",
   "metadata": {},
   "outputs": [],
   "source": []
  }
 ],
 "metadata": {
  "kernelspec": {
   "display_name": "Python 3 (ipykernel)",
   "language": "python",
   "name": "python3"
  },
  "language_info": {
   "codemirror_mode": {
    "name": "ipython",
    "version": 3
   },
   "file_extension": ".py",
   "mimetype": "text/x-python",
   "name": "python",
   "nbconvert_exporter": "python",
   "pygments_lexer": "ipython3",
   "version": "3.11.4"
  }
 },
 "nbformat": 4,
 "nbformat_minor": 5
}
