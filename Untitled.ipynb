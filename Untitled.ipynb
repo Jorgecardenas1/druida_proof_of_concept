{
 "cells": [
  {
   "cell_type": "markdown",
   "id": "4a67f906-0ebc-4db1-b9b8-4b6d16bb4c3a",
   "metadata": {},
   "source": [
    "**Packaging**"
   ]
  },
  {
   "cell_type": "code",
   "execution_count": null,
   "id": "ad6b3c12-f83f-4ca8-a0b6-597bf3e30c2b",
   "metadata": {},
   "outputs": [],
   "source": []
  }
 ],
 "metadata": {
  "kernelspec": {
   "display_name": "Python 3 (ipykernel)",
   "language": "python",
   "name": "python3"
  },
  "language_info": {
   "codemirror_mode": {
    "name": "ipython",
    "version": 3
   },
   "file_extension": ".py",
   "mimetype": "text/x-python",
   "name": "python",
   "nbconvert_exporter": "python",
   "pygments_lexer": "ipython3",
   "version": "3.10.12"
  }
 },
 "nbformat": 4,
 "nbformat_minor": 5
}
